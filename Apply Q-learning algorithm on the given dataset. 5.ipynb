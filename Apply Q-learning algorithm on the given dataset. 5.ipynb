{
 "cells": [
  {
   "cell_type": "code",
   "execution_count": 6,
   "id": "645fd810",
   "metadata": {},
   "outputs": [
    {
     "name": "stdout",
     "output_type": "stream",
     "text": [
      "Policy:\n",
      "[[3 3 3 1]\n",
      " [0 0 0 1]\n",
      " [0 2 3 1]\n",
      " [0 0 3 1]]\n"
     ]
    }
   ],
   "source": [
    "import numpy as np\n",
    "import random\n",
    "\n",
    "# Define the environment\n",
    "grid = np.array([\n",
    "    [0,  0,  0,  0],\n",
    "    [0, -1,  0, -1],\n",
    "    [0,  0,  0, -1],\n",
    "    [0, -1,  0,  1],\n",
    "])\n",
    "\n",
    "# Define the Q-learning parameters\n",
    "num_episodes = 1000\n",
    "max_steps = 100\n",
    "alpha = 0.1\n",
    "gamma = 0.9\n",
    "epsilon = 0.1\n",
    "\n",
    "# Initialize the Q-table\n",
    "num_states = grid.size\n",
    "num_actions = 4\n",
    "q_table = np.zeros((num_states, num_actions))\n",
    "\n",
    "# Helper function to get the row and column indices of a state\n",
    "def get_state_indices(state):\n",
    "    return np.unravel_index(state, grid.shape)\n",
    "\n",
    "# Helper function to get the next state and reward for a given action\n",
    "def get_next_state_and_reward(state, action):\n",
    "    row, col = get_state_indices(state)\n",
    "    if action == 0:  # up\n",
    "        row = max(row - 1, 0)\n",
    "    elif action == 1:  # down\n",
    "        row = min(row + 1, grid.shape[0] - 1)\n",
    "    elif action == 2:  # left\n",
    "        col = max(col - 1, 0)\n",
    "    elif action == 3:  # right\n",
    "        col = min(col + 1, grid.shape[1] - 1)\n",
    "    next_state = np.ravel_multi_index((row, col), grid.shape)\n",
    "    reward = grid[row, col]\n",
    "    return next_state, reward\n",
    "\n",
    "# Run the Q-learning algorithm\n",
    "for episode in range(num_episodes):\n",
    "    state = np.random.randint(num_states)\n",
    "    for step in range(max_steps):\n",
    "        if random.random() < epsilon:\n",
    "            action = random.randint(0, num_actions - 1)\n",
    "        else:\n",
    "            action = np.argmax(q_table[state])\n",
    "        next_state, reward = get_next_state_and_reward(state, action)\n",
    "        q_table[state, action] += alpha * (reward + gamma * np.max(q_table[next_state]) - q_table[state, action])\n",
    "        state = next_state\n",
    "        if reward == 1:  # reached the goal\n",
    "            break\n",
    "\n",
    "# Print the final policy (i.e., the action with highest Q-value for each state)\n",
    "policy = np.argmax(q_table, axis=1)\n",
    "print(\"Policy:\")\n",
    "print(np.reshape(policy, grid.shape))\n"
   ]
  },
  {
   "cell_type": "code",
   "execution_count": null,
   "id": "ad387779",
   "metadata": {},
   "outputs": [],
   "source": []
  }
 ],
 "metadata": {
  "kernelspec": {
   "display_name": "Python 3 (ipykernel)",
   "language": "python",
   "name": "python3"
  },
  "language_info": {
   "codemirror_mode": {
    "name": "ipython",
    "version": 3
   },
   "file_extension": ".py",
   "mimetype": "text/x-python",
   "name": "python",
   "nbconvert_exporter": "python",
   "pygments_lexer": "ipython3",
   "version": "3.9.13"
  }
 },
 "nbformat": 4,
 "nbformat_minor": 5
}
