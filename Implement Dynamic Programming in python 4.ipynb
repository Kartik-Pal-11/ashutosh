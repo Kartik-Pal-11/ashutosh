{
 "cells": [
  {
   "cell_type": "code",
   "execution_count": 19,
   "id": "86682251",
   "metadata": {},
   "outputs": [
    {
     "name": "stdout",
     "output_type": "stream",
     "text": [
      "Optimal policy:\n",
      "[[1 3 1 1]\n",
      " [1 1 1 1]\n",
      " [1 1 1 1]\n",
      " [3 3 3 1]]\n",
      "State values:\n",
      "[[12.60217842 14.00246034 15.55828926 17.28698807]\n",
      " [14.00246034 15.55828926 17.28698807 19.20776452]\n",
      " [15.55828926 17.28698807 19.20776452 21.34196058]\n",
      " [17.28698807 19.20776452 21.34196058 21.34196058]]\n"
     ]
    },
    {
     "name": "stderr",
     "output_type": "stream",
     "text": [
      "C:\\Users\\choud\\AppData\\Local\\Temp\\ipykernel_14232\\928582895.py:34: DeprecationWarning: `np.int` is a deprecated alias for the builtin `int`. To silence this warning, use `int` by itself. Doing this will not modify any behavior and is safe. When replacing `np.int`, you may wish to use e.g. `np.int64` or `np.int32` to specify the precision. If you wish to review your current use, check the release note link for additional information.\n",
      "Deprecated in NumPy 1.20; for more details and guidance: https://numpy.org/devdocs/release/1.20.0-notes.html#deprecations\n",
      "  policy = np.zeros((4, 4), dtype=np.int)\n"
     ]
    }
   ],
   "source": [
    "import numpy as np\n",
    "\n",
    "# Define the gridworld\n",
    "grid = np.zeros((4, 4))\n",
    "grid[1, 1] = -10\n",
    "grid[3, 3] = 10\n",
    "\n",
    "# Define the action space\n",
    "actions = [\"up\", \"down\", \"left\", \"right\"]\n",
    "\n",
    "# Define the transition function\n",
    "def transition(state, action):\n",
    "    i, j = state\n",
    "    if action == \"up\":\n",
    "        i = max(i-1, 0)\n",
    "    elif action == \"down\":\n",
    "        i = min(i+1, 3)\n",
    "    elif action == \"left\":\n",
    "        j = max(j-1, 0)\n",
    "    elif action == \"right\":\n",
    "        j = min(j+1, 3)\n",
    "    if grid[i, j] == -10:\n",
    "        reward = -10\n",
    "        next_state = (0, 0)\n",
    "    elif grid[i, j] == 10:\n",
    "        reward = 10\n",
    "        next_state = (0, 0)\n",
    "    else:\n",
    "        reward = 0\n",
    "        next_state = (i, j)\n",
    "    return next_state, reward\n",
    "\n",
    "# Define the initial policy (always move right)\n",
    "policy = np.zeros((4, 4), dtype=np.int)\n",
    "policy[:, -1] = 1\n",
    "\n",
    "# Define the discount factor and the maximum number of iterations\n",
    "gamma = 0.9\n",
    "max_iterations = 100\n",
    "\n",
    "# Policy iteration algorithm\n",
    "for i in range(max_iterations):\n",
    "    # Policy evaluation\n",
    "    values = np.zeros((4, 4))\n",
    "    for k in range(100):\n",
    "        for state in np.ndindex((4, 4)):\n",
    "            action = actions[policy[state]]\n",
    "            next_state, reward = transition(state, action)\n",
    "            values[state] = reward + gamma * values[next_state]\n",
    "    # Policy improvement\n",
    "    policy_stable = True\n",
    "    for state in np.ndindex((4, 4)):\n",
    "        old_action = policy[state]\n",
    "        q_values = []\n",
    "        for action in actions:\n",
    "            next_state, reward = transition(state, action)\n",
    "            q_values.append(reward + gamma * values[next_state])\n",
    "        policy[state] = np.argmax(q_values)\n",
    "        if old_action != policy[state]:\n",
    "            policy_stable = False\n",
    "    if policy_stable:\n",
    "        break\n",
    "\n",
    "# Print the optimal policy and the state values\n",
    "print(\"Optimal policy:\")\n",
    "print(policy)\n",
    "print(\"State values:\")\n",
    "print(values)\n"
   ]
  },
  {
   "cell_type": "code",
   "execution_count": 6,
   "id": "f3b9e63f",
   "metadata": {},
   "outputs": [],
   "source": []
  },
  {
   "cell_type": "code",
   "execution_count": null,
   "id": "fc9d6c06",
   "metadata": {},
   "outputs": [],
   "source": []
  },
  {
   "cell_type": "code",
   "execution_count": null,
   "id": "8e4bce39",
   "metadata": {},
   "outputs": [],
   "source": []
  },
  {
   "cell_type": "code",
   "execution_count": null,
   "id": "fce4e1f0",
   "metadata": {},
   "outputs": [],
   "source": []
  },
  {
   "cell_type": "code",
   "execution_count": null,
   "id": "aa4e696c",
   "metadata": {},
   "outputs": [],
   "source": []
  }
 ],
 "metadata": {
  "kernelspec": {
   "display_name": "Python 3 (ipykernel)",
   "language": "python",
   "name": "python3"
  },
  "language_info": {
   "codemirror_mode": {
    "name": "ipython",
    "version": 3
   },
   "file_extension": ".py",
   "mimetype": "text/x-python",
   "name": "python",
   "nbconvert_exporter": "python",
   "pygments_lexer": "ipython3",
   "version": "3.9.13"
  }
 },
 "nbformat": 4,
 "nbformat_minor": 5
}
