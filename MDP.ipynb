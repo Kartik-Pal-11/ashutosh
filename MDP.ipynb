{
  "nbformat": 4,
  "nbformat_minor": 0,
  "metadata": {
    "colab": {
      "provenance": []
    },
    "kernelspec": {
      "name": "python3",
      "display_name": "Python 3"
    },
    "language_info": {
      "name": "python"
    }
  },
  "cells": [
    {
      "cell_type": "code",
      "execution_count": 4,
      "metadata": {
        "colab": {
          "base_uri": "https://localhost:8080/"
        },
        "id": "AP2Qqqn5SVQQ",
        "outputId": "29c17604-7c8c-4411-c8c1-6aefae08ca60"
      },
      "outputs": [
        {
          "output_type": "stream",
          "name": "stdout",
          "text": [
            "Final Value Function: \n",
            "[[0.06848032 0.06111567 0.07422254 0.05560469]\n",
            " [0.09153995 0.         0.11212558 0.        ]\n",
            " [0.14522151 0.24737863 0.29954442 0.        ]\n",
            " [0.         0.37986011 0.63898452 0.        ]]\n",
            "\n",
            "Final Policy: \n",
            "[[1. 0. 0. 0.]\n",
            " [0. 0. 0. 1.]\n",
            " [1. 0. 0. 0.]\n",
            " [0. 0. 0. 1.]\n",
            " [1. 0. 0. 0.]\n",
            " [1. 0. 0. 0.]\n",
            " [1. 0. 0. 0.]\n",
            " [1. 0. 0. 0.]\n",
            " [0. 0. 0. 1.]\n",
            " [0. 1. 0. 0.]\n",
            " [1. 0. 0. 0.]\n",
            " [1. 0. 0. 0.]\n",
            " [1. 0. 0. 0.]\n",
            " [0. 0. 1. 0.]\n",
            " [0. 1. 0. 0.]\n",
            " [1. 0. 0. 0.]]\n"
          ]
        },
        {
          "output_type": "stream",
          "name": "stderr",
          "text": [
            "/usr/local/lib/python3.10/dist-packages/ipykernel/ipkernel.py:283: DeprecationWarning: `should_run_async` will not call `transform_cell` automatically in the future. Please pass the result to `transformed_cell` argument and any exception that happen during thetransform in `preprocessing_exc_tuple` in IPython 7.17 and above.\n",
            "  and should_run_async(code)\n",
            "/usr/local/lib/python3.10/dist-packages/gym/core.py:317: DeprecationWarning: \u001b[33mWARN: Initializing wrapper in old step API which returns one bool instead of two. It is recommended to set `new_step_api=True` to use new step API. This will be the default behaviour in future.\u001b[0m\n",
            "  deprecation(\n",
            "/usr/local/lib/python3.10/dist-packages/gym/wrappers/step_api_compatibility.py:39: DeprecationWarning: \u001b[33mWARN: Initializing environment in old step API which returns one bool instead of two. It is recommended to set `new_step_api=True` to use new step API. This will be the default behaviour in future.\u001b[0m\n",
            "  deprecation(\n"
          ]
        }
      ],
      "source": [
        "import numpy as np\n",
        "import gym\n",
        "\n",
        "# create the environment\n",
        "env = gym.make('FrozenLake-v1')\n",
        "\n",
        "num_states = env.observation_space.n\n",
        "num_actions = env.action_space.n\n",
        "\n",
        "def value_iteration(env, theta=0.0001, gamma=0.9):\n",
        "    # Initialize the value function to zero\n",
        "    V = np.zeros(num_states)\n",
        "    \n",
        "    # Loop until convergence\n",
        "    while True:\n",
        "        delta = 0\n",
        "        \n",
        "        # For each state s\n",
        "        for s in range(num_states):\n",
        "            v = V[s]\n",
        "            \n",
        "            # Compute the new value for the state s\n",
        "            q = np.zeros(num_actions)\n",
        "            for a in range(num_actions):\n",
        "                for prob, next_state, reward, done in env.P[s][a]:\n",
        "                    q[a] += prob * (reward + gamma * V[next_state])\n",
        "            \n",
        "            V[s] = np.max(q)\n",
        "            delta = max(delta, np.abs(v - V[s]))\n",
        "        \n",
        "        # Check for convergence\n",
        "        if delta < theta:\n",
        "            break\n",
        "\n",
        "    # Compute the optimal policy\n",
        "    policy = np.zeros((num_states, num_actions))\n",
        "    for s in range(num_states):\n",
        "        q = np.zeros(num_actions)\n",
        "        for a in range(num_actions):\n",
        "            for prob, next_state, reward, done in env.P[s][a]:\n",
        "                q[a] += prob * (reward + gamma * V[next_state])\n",
        "        best_action = np.argmax(q)\n",
        "        policy[s, best_action] = 1\n",
        "    \n",
        "    return V, policy\n",
        "\n",
        "\n",
        "V, policy = value_iteration(env)\n",
        "\n",
        "print(\"Final Value Function: \")\n",
        "print(V.reshape(4,4))\n",
        "print(\"\\nFinal Policy: \")\n",
        "print(policy)"
      ]
    },
    {
      "cell_type": "code",
      "source": [],
      "metadata": {
        "id": "ECr8ETEOS7tG"
      },
      "execution_count": null,
      "outputs": []
    }
  ]
}