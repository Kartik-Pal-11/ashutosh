{
  "nbformat": 4,
  "nbformat_minor": 0,
  "metadata": {
    "colab": {
      "provenance": []
    },
    "kernelspec": {
      "name": "python3",
      "display_name": "Python 3"
    },
    "language_info": {
      "name": "python"
    }
  },
  "cells": [
    {
      "cell_type": "code",
      "execution_count": 2,
      "metadata": {
        "colab": {
          "base_uri": "https://localhost:8080/"
        },
        "id": "OElhn76dSWOT",
        "outputId": "1171e793-36c6-4b39-89e8-7bff4f23ba39"
      },
      "outputs": [
        {
          "output_type": "stream",
          "name": "stdout",
          "text": [
            "Exploration: 27098\n",
            "Exploitation: 108647\n",
            "\n",
            "Final Q-value function:\n",
            "[[1.97800358e-02 1.47068297e-01 2.14790115e-02 2.17483824e-02]\n",
            " [2.04191460e-02 1.86033009e-02 1.52067067e-02 2.00209028e-02]\n",
            " [9.25277560e-03 1.31719946e-02 1.10172363e-02 1.62581999e-02]\n",
            " [9.69287978e-03 1.46656660e-02 3.95939414e-03 1.24142029e-02]\n",
            " [2.86356162e-01 3.20638831e-03 2.17113485e-03 1.54623308e-03]\n",
            " [0.00000000e+00 0.00000000e+00 0.00000000e+00 0.00000000e+00]\n",
            " [1.29911927e-02 4.45490168e-03 3.39809242e-03 2.53124377e-04]\n",
            " [0.00000000e+00 0.00000000e+00 0.00000000e+00 0.00000000e+00]\n",
            " [1.91592698e-01 8.17807750e-03 8.65607864e-04 3.42630368e-01]\n",
            " [6.15519965e-02 4.93761394e-01 3.18621015e-02 2.96062872e-01]\n",
            " [5.65815378e-01 1.39981975e-02 7.83034627e-03 6.20240224e-03]\n",
            " [0.00000000e+00 0.00000000e+00 0.00000000e+00 0.00000000e+00]\n",
            " [0.00000000e+00 0.00000000e+00 0.00000000e+00 0.00000000e+00]\n",
            " [6.10668123e-01 5.16788940e-03 5.06294289e-01 8.81107747e-02]\n",
            " [3.81022258e-01 7.88122541e-01 4.20020416e-01 2.40569807e-01]\n",
            " [0.00000000e+00 0.00000000e+00 0.00000000e+00 0.00000000e+00]]\n",
            "\n",
            "Final Optimal policy:\n",
            "[[1 0 3 1]\n",
            " [0 0 0 0]\n",
            " [3 1 0 0]\n",
            " [0 0 1 0]]\n"
          ]
        }
      ],
      "source": [
        "import gym\n",
        "import numpy as np\n",
        "\n",
        "# Create the FrozenLake environment\n",
        "env = gym.make('FrozenLake-v1')\n",
        "\n",
        "# Define the Q-value function as a matrix with size (num_states, num_actions)\n",
        "num_states = env.observation_space.n\n",
        "num_actions = env.action_space.n\n",
        "Q = np.zeros((num_states, num_actions))\n",
        "\n",
        "# Define the parameters of the Q-learning algorithm\n",
        "alpha = 0.8  # learning rate\n",
        "gamma = 0.9  # discount factor\n",
        "epsilon = 0.2  # exploration probability\n",
        "\n",
        "explo = 0\n",
        "explt = 0\n",
        "\n",
        "# Define a function to select an action based on the Q-value function and exploration-exploitation strategy\n",
        "def select_action(state):\n",
        "    if np.random.rand() < epsilon:\n",
        "        global explo\n",
        "        explo += 1\n",
        "        return env.action_space.sample()  # explore\n",
        "    else:\n",
        "        global explt\n",
        "        explt += 1\n",
        "        return np.argmax(Q[state])  # exploit\n",
        "\n",
        "# Define the main loop of the Q-learning algorithm\n",
        "num_episodes = 10000\n",
        "for episode in range(num_episodes):\n",
        "    state = env.reset()\n",
        "    done = False\n",
        "    while not done:\n",
        "        action = select_action(state)\n",
        "        next_state, reward, done, _ = env.step(action)\n",
        "        Q[state, action] += alpha * (reward + gamma * np.max(Q[next_state]) - Q[state, action])  # update the Q-value function\n",
        "        state = next_state\n",
        "\n",
        "# Print the learned Q-value function and optimal policy\n",
        "print(f\"Exploration: {explo}\")\n",
        "print(f\"Exploitation: {explt}\\n\")\n",
        "print(\"Final Q-value function:\")\n",
        "print(Q)\n",
        "optimal_policy = np.argmax(Q, axis=1)\n",
        "print(\"\\nFinal Optimal policy:\")\n",
        "print(optimal_policy.reshape((4,4)))"
      ]
    },
    {
      "cell_type": "code",
      "source": [],
      "metadata": {
        "id": "4xcqzd4fUG8d"
      },
      "execution_count": null,
      "outputs": []
    }
  ]
}